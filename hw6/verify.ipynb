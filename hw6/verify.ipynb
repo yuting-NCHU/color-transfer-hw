{
 "cells": [
  {
   "cell_type": "code",
   "execution_count": 28,
   "metadata": {},
   "outputs": [
    {
     "name": "stdout",
     "output_type": "stream",
     "text": [
      "0\n",
      "0.0\n",
      "2\n",
      "2.0\n",
      "40\n",
      "40.0\n",
      "672\n",
      "672.0\n",
      "10880\n",
      "10880.0\n",
      "174592\n",
      "174592.0\n",
      "2795520\n",
      "2795520.0\n",
      "44736512\n",
      "44736512.0\n",
      "715816960\n",
      "715816960.0\n",
      "11453202432\n",
      "11453202432.0\n"
     ]
    }
   ],
   "source": [
    "def origin_formala(k):\n",
    "    ans=0\n",
    "    n=2**k-1\n",
    "    for i in range(n+1): # i=0~n\n",
    "        for j in range(n+1): # j=0~n\n",
    "            ans += (i-j)**2\n",
    "    return ans\n",
    "\n",
    "def my_formala(k):\n",
    "    x=2**(2*k)\n",
    "    return x*(x-1)/6\n",
    "\n",
    "for k in range(10):\n",
    "    print(origin_formala(k))    \n",
    "    print(my_formala(k))"
   ]
  },
  {
   "cell_type": "code",
   "execution_count": 21,
   "metadata": {},
   "outputs": [
    {
     "name": "stdout",
     "output_type": "stream",
     "text": [
      "672.0\n"
     ]
    }
   ],
   "source": [
    "k=3\n",
    "ans=(2**(2*k))*((2**(2*k))-1)/6\n",
    "print(ans)"
   ]
  }
 ],
 "metadata": {
  "kernelspec": {
   "display_name": "Python 3",
   "language": "python",
   "name": "python3"
  },
  "language_info": {
   "codemirror_mode": {
    "name": "ipython",
    "version": 3
   },
   "file_extension": ".py",
   "mimetype": "text/x-python",
   "name": "python",
   "nbconvert_exporter": "python",
   "pygments_lexer": "ipython3",
   "version": "3.8.6rc1"
  }
 },
 "nbformat": 4,
 "nbformat_minor": 4
}
